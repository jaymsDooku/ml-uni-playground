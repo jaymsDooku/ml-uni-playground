{
 "cells": [
  {
   "cell_type": "code",
   "execution_count": 1,
   "metadata": {},
   "outputs": [
    {
     "name": "stdout",
     "output_type": "stream",
     "text": [
      "py list:  [24, 90, 7, 49, 20, 7, 94, 32, 71, 77, 2, 6, 13, 16, 75, 11, 0, 39, 90, 34, 86, 28, 59, 45, 45, 15, 23, 86, 83, 10, 61, 17, 86, 33, 25, 57, 97, 34, 93, 45, 68, 69, 71, 20, 42, 84, 6, 78, 21, 54, 32, 98, 66, 80, 92, 54, 31, 72, 48, 70, 27, 84, 37, 73, 12, 40, 34, 99, 8, 21, 2, 1, 22, 84, 59, 80, 47, 11, 4, 83, 96, 84, 82, 40, 63, 35, 3, 93, 69, 24, 58, 28, 72, 5, 78, 10, 3, 94, 70, 47]\n",
      "py list mean:  48.23\n",
      "numpy list:  [24 90  7 49 20  7 94 32 71 77  2  6 13 16 75 11  0 39 90 34 86 28 59 45\n",
      " 45 15 23 86 83 10 61 17 86 33 25 57 97 34 93 45 68 69 71 20 42 84  6 78\n",
      " 21 54 32 98 66 80 92 54 31 72 48 70 27 84 37 73 12 40 34 99  8 21  2  1\n",
      " 22 84 59 80 47 11  4 83 96 84 82 40 63 35  3 93 69 24 58 28 72  5 78 10\n",
      "  3 94 70 47]\n",
      "numpy list mean:  48.23\n"
     ]
    }
   ],
   "source": [
    "import random\n",
    "\n",
    "nums = 100\n",
    "max_int = 100\n",
    "py_list = [random.randrange(max_int) for i in range(nums)]\n",
    "py_list_mean = sum(py_list) / len(py_list)\n",
    "print(\"py list: \", py_list)\n",
    "print(\"py list mean: \", py_list_mean)\n",
    "\n",
    "import numpy as np\n",
    "\n",
    "np_list = np.array(py_list)\n",
    "np_list_mean = np.mean(np_list)\n",
    "print(\"numpy list: \", np_list)\n",
    "print(\"numpy list mean: \", np_list_mean)"
   ]
  }
 ],
 "metadata": {
  "kernelspec": {
   "display_name": "Python 3",
   "language": "python",
   "name": "python3"
  },
  "language_info": {
   "codemirror_mode": {
    "name": "ipython",
    "version": 3
   },
   "file_extension": ".py",
   "mimetype": "text/x-python",
   "name": "python",
   "nbconvert_exporter": "python",
   "pygments_lexer": "ipython3",
   "version": "3.8.5"
  }
 },
 "nbformat": 4,
 "nbformat_minor": 4
}
