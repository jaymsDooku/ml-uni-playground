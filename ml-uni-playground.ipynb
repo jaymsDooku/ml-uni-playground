{
 "cells": [
  {
   "cell_type": "code",
   "execution_count": 4,
   "metadata": {},
   "outputs": [
    {
     "name": "stdout",
     "output_type": "stream",
     "text": [
      "py list:  [80, 75, 49, 59, 31, 5, 42, 82, 98, 85, 36, 10, 79, 6, 23, 4, 58, 96, 1, 93, 64, 78, 74, 48, 55, 56, 20, 87, 0, 90, 7, 54, 80, 40, 58, 24, 51, 67, 19, 67, 42, 19, 38, 34, 88, 67, 56, 48, 33, 14, 34, 80, 68, 63, 47, 83, 3, 54, 63, 86, 86, 57, 33, 23, 67, 91, 94, 13, 68, 10, 39, 24, 23, 4, 71, 27, 48, 48, 69, 51, 49, 95, 44, 86, 83, 47, 29, 52, 24, 60, 16, 52, 98, 63, 58, 68, 8, 96, 1, 14]\n",
      "py list mean:  50.6\n",
      "numpy list:  [80 75 49 59 31  5 42 82 98 85 36 10 79  6 23  4 58 96  1 93 64 78 74 48\n",
      " 55 56 20 87  0 90  7 54 80 40 58 24 51 67 19 67 42 19 38 34 88 67 56 48\n",
      " 33 14 34 80 68 63 47 83  3 54 63 86 86 57 33 23 67 91 94 13 68 10 39 24\n",
      " 23  4 71 27 48 48 69 51 49 95 44 86 83 47 29 52 24 60 16 52 98 63 58 68\n",
      "  8 96  1 14]\n",
      "numpy list mean:  50.6\n"
     ]
    }
   ],
   "source": [
    "import random\n",
    "import statistics as stats\n",
    "\n",
    "nums = 100\n",
    "max_int = 100\n",
    "py_list = [random.randrange(max_int) for i in range(nums)]\n",
    "#py_list_mean = sum(py_list) / len(py_list)\n",
    "py_list_mean = stats.mean(py_list)\n",
    "print(\"py list: \", py_list)\n",
    "print(\"py list mean: \", py_list_mean)\n",
    "\n",
    "import numpy as np\n",
    "\n",
    "np_list = np.array(py_list)\n",
    "np_list_mean = np_list.mean()\n",
    "print(\"numpy list: \", np_list)\n",
    "print(\"numpy list mean: \", np_list_mean)"
   ]
  }
 ],
 "metadata": {
  "kernelspec": {
   "display_name": "Python 3",
   "language": "python",
   "name": "python3"
  },
  "language_info": {
   "codemirror_mode": {
    "name": "ipython",
    "version": 3
   },
   "file_extension": ".py",
   "mimetype": "text/x-python",
   "name": "python",
   "nbconvert_exporter": "python",
   "pygments_lexer": "ipython3",
   "version": "3.8.5"
  }
 },
 "nbformat": 4,
 "nbformat_minor": 4
}
