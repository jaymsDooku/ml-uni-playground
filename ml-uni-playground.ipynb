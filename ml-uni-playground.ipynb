{
 "cells": [
  {
   "cell_type": "code",
   "execution_count": 3,
   "metadata": {},
   "outputs": [
    {
     "name": "stdout",
     "output_type": "stream",
     "text": [
      "py list:  [26, 99, 8, 11, 60, 89, 55, 29, 46, 80, 0, 68, 2, 80, 98, 73, 48, 29, 7, 15, 83, 38, 64, 63, 38, 18, 19, 96, 49, 71, 63, 30, 82, 73, 27, 48, 12, 33, 84, 53, 53, 81, 15, 91, 44, 84, 67, 94, 47, 18, 97, 43, 66, 49, 21, 41, 49, 6, 23, 9, 73, 95, 61, 73, 62, 67, 65, 61, 73, 74, 83, 48, 93, 72, 5, 14, 41, 41, 20, 76, 22, 34, 81, 98, 1, 98, 27, 67, 91, 60, 18, 29, 0, 93, 86, 81, 39, 60, 7, 5]\n",
      "py list mean:  51.59\n",
      "numpy list:  [26 99  8 11 60 89 55 29 46 80  0 68  2 80 98 73 48 29  7 15 83 38 64 63\n",
      " 38 18 19 96 49 71 63 30 82 73 27 48 12 33 84 53 53 81 15 91 44 84 67 94\n",
      " 47 18 97 43 66 49 21 41 49  6 23  9 73 95 61 73 62 67 65 61 73 74 83 48\n",
      " 93 72  5 14 41 41 20 76 22 34 81 98  1 98 27 67 91 60 18 29  0 93 86 81\n",
      " 39 60  7  5]\n",
      "numpy list mean:  51.59\n"
     ]
    }
   ],
   "source": [
    "import random\n",
    "import statistics as stats\n",
    "\n",
    "nums = 100\n",
    "max_int = 100\n",
    "py_list = [random.randrange(max_int) for i in range(nums)]\n",
    "#py_list_mean = sum(py_list) / len(py_list)\n",
    "py_list_mean = stats.mean(py_list)\n",
    "print(\"py list: \", py_list)\n",
    "print(\"py list mean: \", py_list_mean)\n",
    "\n",
    "import numpy as np\n",
    "\n",
    "np_list = np.array(py_list)\n",
    "np_list_mean = np.mean(np_list)\n",
    "print(\"numpy list: \", np_list)\n",
    "print(\"numpy list mean: \", np_list_mean)"
   ]
  }
 ],
 "metadata": {
  "kernelspec": {
   "display_name": "Python 3",
   "language": "python",
   "name": "python3"
  },
  "language_info": {
   "codemirror_mode": {
    "name": "ipython",
    "version": 3
   },
   "file_extension": ".py",
   "mimetype": "text/x-python",
   "name": "python",
   "nbconvert_exporter": "python",
   "pygments_lexer": "ipython3",
   "version": "3.8.5"
  }
 },
 "nbformat": 4,
 "nbformat_minor": 4
}
